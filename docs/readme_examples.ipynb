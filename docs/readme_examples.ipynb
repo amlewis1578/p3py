{
 "cells": [
  {
   "cell_type": "markdown",
   "metadata": {},
   "source": [
    "### GLS\n",
    "\n",
    "The `gls` module contains functions to calculate the GLS estimate and uncertainty. The two functions are `get_gls_estimate()` and `get_gls_unc()`. The function `get_gls_estimate()` calls `get_gls_unc()` and will return both the values and uncertainties for the fitted parameters. \n",
    "\n",
    "For example, to solve the \"original\" PPP problem:"
   ]
  },
  {
   "cell_type": "code",
   "execution_count": 3,
   "metadata": {},
   "outputs": [],
   "source": [
    "from p3py import get_gls_estimate\n",
    "import numpy as np"
   ]
  },
  {
   "cell_type": "code",
   "execution_count": 4,
   "metadata": {},
   "outputs": [],
   "source": [
    "# set up matrices from PPP problem\n",
    "X = np.array([[1],[1]])\n",
    "Y = np.array([[1.0],[1.5]])\n",
    "V = np.array([[0.05,0.06],[0.06,0.1125]])"
   ]
  },
  {
   "cell_type": "code",
   "execution_count": 5,
   "metadata": {},
   "outputs": [
    {
     "data": {
      "text/plain": [
       "(array([[0.88235294]]), array([[0.21828206]]))"
      ]
     },
     "execution_count": 5,
     "metadata": {},
     "output_type": "execute_result"
    }
   ],
   "source": [
    "est, unc = get_gls_estimate(Y, V, X)\n",
    "est, unc"
   ]
  },
  {
   "cell_type": "markdown",
   "metadata": {},
   "source": [
    "The function `get_gls_unc()` is available to the user separately because it does not require data points, only a covariance matrix, and can be used to test specific covariance and design matrix combinations without needing a data points column vector."
   ]
  },
  {
   "cell_type": "code",
   "execution_count": 6,
   "metadata": {},
   "outputs": [],
   "source": [
    "from p3py import get_gls_unc"
   ]
  },
  {
   "cell_type": "code",
   "execution_count": 7,
   "metadata": {},
   "outputs": [
    {
     "data": {
      "text/plain": [
       "array([[0.21828206]])"
      ]
     },
     "execution_count": 7,
     "metadata": {},
     "output_type": "execute_result"
    }
   ],
   "source": [
    "unc = get_gls_unc(V, X)\n",
    "unc"
   ]
  },
  {
   "cell_type": "markdown",
   "metadata": {},
   "source": [
    "### SAMMY\n",
    "\n",
    "The `sammy` module contains the equations for the Methods 1, 2, 2a, and 2b in the SAMMY manual for 2x2 matrices. "
   ]
  },
  {
   "cell_type": "code",
   "execution_count": 8,
   "metadata": {},
   "outputs": [],
   "source": [
    "from p3py.sammy import method1, method2, method2a, method2b"
   ]
  },
  {
   "cell_type": "code",
   "execution_count": 9,
   "metadata": {},
   "outputs": [],
   "source": [
    "# set up small dn values\n",
    "r = np.array([10000,12100])\n",
    "dr = np.array([100,110])\n",
    "n = 100\n",
    "dn = 0.5"
   ]
  },
  {
   "cell_type": "code",
   "execution_count": 14,
   "metadata": {},
   "outputs": [
    {
     "name": "stdout",
     "output_type": "stream",
     "text": [
      "\n",
      "109.5023 +/- 0.9205\n",
      "\n",
      "100.0 +/- 0.5\n"
     ]
    }
   ],
   "source": [
    "p, m = method1(r, dr, n, dn, verbose=True)"
   ]
  },
  {
   "cell_type": "code",
   "execution_count": null,
   "metadata": {},
   "outputs": [],
   "source": []
  }
 ],
 "metadata": {
  "kernelspec": {
   "display_name": "p3py-testing",
   "language": "python",
   "name": "python3"
  },
  "language_info": {
   "codemirror_mode": {
    "name": "ipython",
    "version": 3
   },
   "file_extension": ".py",
   "mimetype": "text/x-python",
   "name": "python",
   "nbconvert_exporter": "python",
   "pygments_lexer": "ipython3",
   "version": "3.10.13"
  },
  "orig_nbformat": 4
 },
 "nbformat": 4,
 "nbformat_minor": 2
}
